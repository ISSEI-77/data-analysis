{
 "cells": [
  {
   "cell_type": "code",
   "execution_count": 55,
   "id": "0d620553-80d0-4eed-a45c-25f102734bbd",
   "metadata": {},
   "outputs": [],
   "source": [
    "import numpy as np\n",
    "import pandas as pd\n",
    "import matplotlib.pyplot as plt\n",
    "import seaborn as sns"
   ]
  },
  {
   "cell_type": "code",
   "execution_count": 56,
   "id": "b603d151-137a-4178-b93f-0a65f5b3ecd9",
   "metadata": {},
   "outputs": [
    {
     "data": {
      "text/html": [
       "<div>\n",
       "<style scoped>\n",
       "    .dataframe tbody tr th:only-of-type {\n",
       "        vertical-align: middle;\n",
       "    }\n",
       "\n",
       "    .dataframe tbody tr th {\n",
       "        vertical-align: top;\n",
       "    }\n",
       "\n",
       "    .dataframe thead th {\n",
       "        text-align: right;\n",
       "    }\n",
       "</style>\n",
       "<table border=\"1\" class=\"dataframe\">\n",
       "  <thead>\n",
       "    <tr style=\"text-align: right;\">\n",
       "      <th></th>\n",
       "      <th>show_id</th>\n",
       "      <th>type</th>\n",
       "      <th>title</th>\n",
       "      <th>director</th>\n",
       "      <th>cast</th>\n",
       "      <th>country</th>\n",
       "      <th>date_added</th>\n",
       "      <th>release_year</th>\n",
       "      <th>rating</th>\n",
       "      <th>duration</th>\n",
       "      <th>listed_in</th>\n",
       "      <th>description</th>\n",
       "    </tr>\n",
       "  </thead>\n",
       "  <tbody>\n",
       "    <tr>\n",
       "      <th>0</th>\n",
       "      <td>s1</td>\n",
       "      <td>Movie</td>\n",
       "      <td>A Spark Story</td>\n",
       "      <td>Jason Sterman, Leanne Dare</td>\n",
       "      <td>Apthon Corbin, Louis Gonzales</td>\n",
       "      <td>NaN</td>\n",
       "      <td>September 24, 2021</td>\n",
       "      <td>2021</td>\n",
       "      <td>TV-PG</td>\n",
       "      <td>88 min</td>\n",
       "      <td>Documentary</td>\n",
       "      <td>Two Pixar filmmakers strive to bring their uni...</td>\n",
       "    </tr>\n",
       "    <tr>\n",
       "      <th>1</th>\n",
       "      <td>s2</td>\n",
       "      <td>Movie</td>\n",
       "      <td>Spooky Buddies</td>\n",
       "      <td>Robert Vince</td>\n",
       "      <td>Tucker Albrizzi, Diedrich Bader, Ameko Eks Mas...</td>\n",
       "      <td>United States, Canada</td>\n",
       "      <td>September 24, 2021</td>\n",
       "      <td>2011</td>\n",
       "      <td>G</td>\n",
       "      <td>93 min</td>\n",
       "      <td>Comedy, Fantasy, Kids</td>\n",
       "      <td>The puppies go on a spooky adventure through a...</td>\n",
       "    </tr>\n",
       "    <tr>\n",
       "      <th>2</th>\n",
       "      <td>s3</td>\n",
       "      <td>Movie</td>\n",
       "      <td>The Fault in Our Stars</td>\n",
       "      <td>Josh Boone</td>\n",
       "      <td>Shailene Woodley, Ansel Elgort, Laura Dern, Sa...</td>\n",
       "      <td>United States</td>\n",
       "      <td>September 24, 2021</td>\n",
       "      <td>2014</td>\n",
       "      <td>PG-13</td>\n",
       "      <td>127 min</td>\n",
       "      <td>Coming of Age, Drama, Romance</td>\n",
       "      <td>Hazel and Gus share a love that sweeps them on...</td>\n",
       "    </tr>\n",
       "    <tr>\n",
       "      <th>3</th>\n",
       "      <td>s4</td>\n",
       "      <td>TV Show</td>\n",
       "      <td>Dog: Impossible</td>\n",
       "      <td>NaN</td>\n",
       "      <td>Matt Beisner</td>\n",
       "      <td>United States</td>\n",
       "      <td>September 22, 2021</td>\n",
       "      <td>2019</td>\n",
       "      <td>TV-PG</td>\n",
       "      <td>2 Seasons</td>\n",
       "      <td>Animals &amp; Nature, Docuseries, Family</td>\n",
       "      <td>Matt Beisner uses unique approaches to modifyi...</td>\n",
       "    </tr>\n",
       "    <tr>\n",
       "      <th>4</th>\n",
       "      <td>s5</td>\n",
       "      <td>TV Show</td>\n",
       "      <td>Spidey And His Amazing Friends</td>\n",
       "      <td>NaN</td>\n",
       "      <td>Benjamin Valic, Lily Sanfelippo, Jakari Fraser...</td>\n",
       "      <td>United States</td>\n",
       "      <td>September 22, 2021</td>\n",
       "      <td>2021</td>\n",
       "      <td>TV-Y</td>\n",
       "      <td>1 Season</td>\n",
       "      <td>Action-Adventure, Animation, Kids</td>\n",
       "      <td>Spidey teams up with pals to become The Spidey...</td>\n",
       "    </tr>\n",
       "    <tr>\n",
       "      <th>...</th>\n",
       "      <td>...</td>\n",
       "      <td>...</td>\n",
       "      <td>...</td>\n",
       "      <td>...</td>\n",
       "      <td>...</td>\n",
       "      <td>...</td>\n",
       "      <td>...</td>\n",
       "      <td>...</td>\n",
       "      <td>...</td>\n",
       "      <td>...</td>\n",
       "      <td>...</td>\n",
       "      <td>...</td>\n",
       "    </tr>\n",
       "    <tr>\n",
       "      <th>1363</th>\n",
       "      <td>s1364</td>\n",
       "      <td>Movie</td>\n",
       "      <td>The Sword in the Stone</td>\n",
       "      <td>Wolfgang Reitherman</td>\n",
       "      <td>Sebastian Cabot, Karl Swenson, Rickie Sorensen...</td>\n",
       "      <td>United States</td>\n",
       "      <td>October 1, 2019</td>\n",
       "      <td>1963</td>\n",
       "      <td>G</td>\n",
       "      <td>80 min</td>\n",
       "      <td>Action-Adventure, Animation, Comedy</td>\n",
       "      <td>Merlin trains a young orphan who's destined to...</td>\n",
       "    </tr>\n",
       "    <tr>\n",
       "      <th>1364</th>\n",
       "      <td>s1365</td>\n",
       "      <td>Movie</td>\n",
       "      <td>Those Calloways</td>\n",
       "      <td>Norman Tokar</td>\n",
       "      <td>Brian Keith, Vera Miles, Brandon de Wilde, Wal...</td>\n",
       "      <td>United States</td>\n",
       "      <td>October 1, 2019</td>\n",
       "      <td>1965</td>\n",
       "      <td>PG</td>\n",
       "      <td>132 min</td>\n",
       "      <td>Animals &amp; Nature, Drama, Family</td>\n",
       "      <td>A strong-willed family struggles to establish ...</td>\n",
       "    </tr>\n",
       "    <tr>\n",
       "      <th>1365</th>\n",
       "      <td>s1366</td>\n",
       "      <td>TV Show</td>\n",
       "      <td>Disney Kirby Buckets</td>\n",
       "      <td>NaN</td>\n",
       "      <td>Jacob Bertrand, Mekai Curtis, Cade Sutton, Oli...</td>\n",
       "      <td>United States</td>\n",
       "      <td>NaN</td>\n",
       "      <td>2014</td>\n",
       "      <td>TV-Y7</td>\n",
       "      <td>3 Seasons</td>\n",
       "      <td>Action-Adventure, Comedy, Coming of Age</td>\n",
       "      <td>Welcome to Kirby's world! It's rude and sketchy.</td>\n",
       "    </tr>\n",
       "    <tr>\n",
       "      <th>1366</th>\n",
       "      <td>s1367</td>\n",
       "      <td>TV Show</td>\n",
       "      <td>Disney Mech-X4</td>\n",
       "      <td>NaN</td>\n",
       "      <td>Nathaniel Potvin, Raymond Cham, Kamran Lucas, ...</td>\n",
       "      <td>Canada</td>\n",
       "      <td>NaN</td>\n",
       "      <td>2016</td>\n",
       "      <td>TV-Y7</td>\n",
       "      <td>2 Seasons</td>\n",
       "      <td>Action-Adventure, Comedy, Science Fiction</td>\n",
       "      <td>Ryan discovers his ability to control a giant ...</td>\n",
       "    </tr>\n",
       "    <tr>\n",
       "      <th>1367</th>\n",
       "      <td>s1368</td>\n",
       "      <td>TV Show</td>\n",
       "      <td>Imagination Movers</td>\n",
       "      <td>NaN</td>\n",
       "      <td>Rich Collins, Dave Poche, Scott Durbin, Scott ...</td>\n",
       "      <td>United States</td>\n",
       "      <td>NaN</td>\n",
       "      <td>2008</td>\n",
       "      <td>TV-Y</td>\n",
       "      <td>3 Seasons</td>\n",
       "      <td>Kids, Music</td>\n",
       "      <td>Rock out with the Imagination Movers, Disney J...</td>\n",
       "    </tr>\n",
       "  </tbody>\n",
       "</table>\n",
       "<p>1368 rows × 12 columns</p>\n",
       "</div>"
      ],
      "text/plain": [
       "     show_id     type                           title  \\\n",
       "0         s1    Movie                   A Spark Story   \n",
       "1         s2    Movie                  Spooky Buddies   \n",
       "2         s3    Movie          The Fault in Our Stars   \n",
       "3         s4  TV Show                 Dog: Impossible   \n",
       "4         s5  TV Show  Spidey And His Amazing Friends   \n",
       "...      ...      ...                             ...   \n",
       "1363   s1364    Movie          The Sword in the Stone   \n",
       "1364   s1365    Movie                 Those Calloways   \n",
       "1365   s1366  TV Show            Disney Kirby Buckets   \n",
       "1366   s1367  TV Show                  Disney Mech-X4   \n",
       "1367   s1368  TV Show              Imagination Movers   \n",
       "\n",
       "                        director  \\\n",
       "0     Jason Sterman, Leanne Dare   \n",
       "1                   Robert Vince   \n",
       "2                     Josh Boone   \n",
       "3                            NaN   \n",
       "4                            NaN   \n",
       "...                          ...   \n",
       "1363         Wolfgang Reitherman   \n",
       "1364                Norman Tokar   \n",
       "1365                         NaN   \n",
       "1366                         NaN   \n",
       "1367                         NaN   \n",
       "\n",
       "                                                   cast  \\\n",
       "0                         Apthon Corbin, Louis Gonzales   \n",
       "1     Tucker Albrizzi, Diedrich Bader, Ameko Eks Mas...   \n",
       "2     Shailene Woodley, Ansel Elgort, Laura Dern, Sa...   \n",
       "3                                          Matt Beisner   \n",
       "4     Benjamin Valic, Lily Sanfelippo, Jakari Fraser...   \n",
       "...                                                 ...   \n",
       "1363  Sebastian Cabot, Karl Swenson, Rickie Sorensen...   \n",
       "1364  Brian Keith, Vera Miles, Brandon de Wilde, Wal...   \n",
       "1365  Jacob Bertrand, Mekai Curtis, Cade Sutton, Oli...   \n",
       "1366  Nathaniel Potvin, Raymond Cham, Kamran Lucas, ...   \n",
       "1367  Rich Collins, Dave Poche, Scott Durbin, Scott ...   \n",
       "\n",
       "                    country          date_added  release_year rating  \\\n",
       "0                       NaN  September 24, 2021          2021  TV-PG   \n",
       "1     United States, Canada  September 24, 2021          2011      G   \n",
       "2             United States  September 24, 2021          2014  PG-13   \n",
       "3             United States  September 22, 2021          2019  TV-PG   \n",
       "4             United States  September 22, 2021          2021   TV-Y   \n",
       "...                     ...                 ...           ...    ...   \n",
       "1363          United States     October 1, 2019          1963      G   \n",
       "1364          United States     October 1, 2019          1965     PG   \n",
       "1365          United States                 NaN          2014  TV-Y7   \n",
       "1366                 Canada                 NaN          2016  TV-Y7   \n",
       "1367          United States                 NaN          2008   TV-Y   \n",
       "\n",
       "       duration                                  listed_in  \\\n",
       "0        88 min                                Documentary   \n",
       "1        93 min                      Comedy, Fantasy, Kids   \n",
       "2       127 min              Coming of Age, Drama, Romance   \n",
       "3     2 Seasons       Animals & Nature, Docuseries, Family   \n",
       "4      1 Season          Action-Adventure, Animation, Kids   \n",
       "...         ...                                        ...   \n",
       "1363     80 min        Action-Adventure, Animation, Comedy   \n",
       "1364    132 min            Animals & Nature, Drama, Family   \n",
       "1365  3 Seasons    Action-Adventure, Comedy, Coming of Age   \n",
       "1366  2 Seasons  Action-Adventure, Comedy, Science Fiction   \n",
       "1367  3 Seasons                                Kids, Music   \n",
       "\n",
       "                                            description  \n",
       "0     Two Pixar filmmakers strive to bring their uni...  \n",
       "1     The puppies go on a spooky adventure through a...  \n",
       "2     Hazel and Gus share a love that sweeps them on...  \n",
       "3     Matt Beisner uses unique approaches to modifyi...  \n",
       "4     Spidey teams up with pals to become The Spidey...  \n",
       "...                                                 ...  \n",
       "1363  Merlin trains a young orphan who's destined to...  \n",
       "1364  A strong-willed family struggles to establish ...  \n",
       "1365   Welcome to Kirby's world! It's rude and sketchy.  \n",
       "1366  Ryan discovers his ability to control a giant ...  \n",
       "1367  Rock out with the Imagination Movers, Disney J...  \n",
       "\n",
       "[1368 rows x 12 columns]"
      ]
     },
     "execution_count": 56,
     "metadata": {},
     "output_type": "execute_result"
    }
   ],
   "source": [
    "df=pd.read_csv(\"C:\\\\Users\\\\mjncs\\\\OneDrive\\\\Documents\\\\nanda\\\\intern\\\\disney_plus_titles.csv\")\n",
    "df"
   ]
  },
  {
   "cell_type": "code",
   "execution_count": 57,
   "id": "00c94b0d-3566-47e3-830b-087f97f72fdb",
   "metadata": {},
   "outputs": [
    {
     "data": {
      "text/html": [
       "<div>\n",
       "<style scoped>\n",
       "    .dataframe tbody tr th:only-of-type {\n",
       "        vertical-align: middle;\n",
       "    }\n",
       "\n",
       "    .dataframe tbody tr th {\n",
       "        vertical-align: top;\n",
       "    }\n",
       "\n",
       "    .dataframe thead th {\n",
       "        text-align: right;\n",
       "    }\n",
       "</style>\n",
       "<table border=\"1\" class=\"dataframe\">\n",
       "  <thead>\n",
       "    <tr style=\"text-align: right;\">\n",
       "      <th></th>\n",
       "      <th>show_id</th>\n",
       "      <th>type</th>\n",
       "      <th>title</th>\n",
       "      <th>director</th>\n",
       "      <th>cast</th>\n",
       "      <th>country</th>\n",
       "      <th>date_added</th>\n",
       "      <th>release_year</th>\n",
       "      <th>rating</th>\n",
       "      <th>duration</th>\n",
       "      <th>listed_in</th>\n",
       "      <th>description</th>\n",
       "    </tr>\n",
       "  </thead>\n",
       "  <tbody>\n",
       "    <tr>\n",
       "      <th>0</th>\n",
       "      <td>s1</td>\n",
       "      <td>Movie</td>\n",
       "      <td>A Spark Story</td>\n",
       "      <td>Jason Sterman, Leanne Dare</td>\n",
       "      <td>Apthon Corbin, Louis Gonzales</td>\n",
       "      <td>NaN</td>\n",
       "      <td>September 24, 2021</td>\n",
       "      <td>2021</td>\n",
       "      <td>TV-PG</td>\n",
       "      <td>88 min</td>\n",
       "      <td>Documentary</td>\n",
       "      <td>Two Pixar filmmakers strive to bring their uni...</td>\n",
       "    </tr>\n",
       "    <tr>\n",
       "      <th>1</th>\n",
       "      <td>s2</td>\n",
       "      <td>Movie</td>\n",
       "      <td>Spooky Buddies</td>\n",
       "      <td>Robert Vince</td>\n",
       "      <td>Tucker Albrizzi, Diedrich Bader, Ameko Eks Mas...</td>\n",
       "      <td>United States, Canada</td>\n",
       "      <td>September 24, 2021</td>\n",
       "      <td>2011</td>\n",
       "      <td>G</td>\n",
       "      <td>93 min</td>\n",
       "      <td>Comedy, Fantasy, Kids</td>\n",
       "      <td>The puppies go on a spooky adventure through a...</td>\n",
       "    </tr>\n",
       "    <tr>\n",
       "      <th>2</th>\n",
       "      <td>s3</td>\n",
       "      <td>Movie</td>\n",
       "      <td>The Fault in Our Stars</td>\n",
       "      <td>Josh Boone</td>\n",
       "      <td>Shailene Woodley, Ansel Elgort, Laura Dern, Sa...</td>\n",
       "      <td>United States</td>\n",
       "      <td>September 24, 2021</td>\n",
       "      <td>2014</td>\n",
       "      <td>PG-13</td>\n",
       "      <td>127 min</td>\n",
       "      <td>Coming of Age, Drama, Romance</td>\n",
       "      <td>Hazel and Gus share a love that sweeps them on...</td>\n",
       "    </tr>\n",
       "    <tr>\n",
       "      <th>3</th>\n",
       "      <td>s4</td>\n",
       "      <td>TV Show</td>\n",
       "      <td>Dog: Impossible</td>\n",
       "      <td>NaN</td>\n",
       "      <td>Matt Beisner</td>\n",
       "      <td>United States</td>\n",
       "      <td>September 22, 2021</td>\n",
       "      <td>2019</td>\n",
       "      <td>TV-PG</td>\n",
       "      <td>2 Seasons</td>\n",
       "      <td>Animals &amp; Nature, Docuseries, Family</td>\n",
       "      <td>Matt Beisner uses unique approaches to modifyi...</td>\n",
       "    </tr>\n",
       "    <tr>\n",
       "      <th>4</th>\n",
       "      <td>s5</td>\n",
       "      <td>TV Show</td>\n",
       "      <td>Spidey And His Amazing Friends</td>\n",
       "      <td>NaN</td>\n",
       "      <td>Benjamin Valic, Lily Sanfelippo, Jakari Fraser...</td>\n",
       "      <td>United States</td>\n",
       "      <td>September 22, 2021</td>\n",
       "      <td>2021</td>\n",
       "      <td>TV-Y</td>\n",
       "      <td>1 Season</td>\n",
       "      <td>Action-Adventure, Animation, Kids</td>\n",
       "      <td>Spidey teams up with pals to become The Spidey...</td>\n",
       "    </tr>\n",
       "    <tr>\n",
       "      <th>5</th>\n",
       "      <td>s6</td>\n",
       "      <td>TV Show</td>\n",
       "      <td>Star Wars: Visions</td>\n",
       "      <td>NaN</td>\n",
       "      <td>NaN</td>\n",
       "      <td>NaN</td>\n",
       "      <td>September 22, 2021</td>\n",
       "      <td>2021</td>\n",
       "      <td>TV-PG</td>\n",
       "      <td>1 Season</td>\n",
       "      <td>Action-Adventure, Animation, Anime</td>\n",
       "      <td>An animated anthology celebrating Star Wars th...</td>\n",
       "    </tr>\n",
       "    <tr>\n",
       "      <th>6</th>\n",
       "      <td>s7</td>\n",
       "      <td>Movie</td>\n",
       "      <td>Confessions of a Shopaholic</td>\n",
       "      <td>P.J. Hogan</td>\n",
       "      <td>Isla Fisher, Hugh Dancy, Joan Cusack, John Goo...</td>\n",
       "      <td>United States</td>\n",
       "      <td>September 17, 2021</td>\n",
       "      <td>2009</td>\n",
       "      <td>PG</td>\n",
       "      <td>106 min</td>\n",
       "      <td>Comedy, Romance, Romantic Comedy</td>\n",
       "      <td>Becky writes a personal finance column en rout...</td>\n",
       "    </tr>\n",
       "  </tbody>\n",
       "</table>\n",
       "</div>"
      ],
      "text/plain": [
       "  show_id     type                           title  \\\n",
       "0      s1    Movie                   A Spark Story   \n",
       "1      s2    Movie                  Spooky Buddies   \n",
       "2      s3    Movie          The Fault in Our Stars   \n",
       "3      s4  TV Show                 Dog: Impossible   \n",
       "4      s5  TV Show  Spidey And His Amazing Friends   \n",
       "5      s6  TV Show              Star Wars: Visions   \n",
       "6      s7    Movie     Confessions of a Shopaholic   \n",
       "\n",
       "                     director  \\\n",
       "0  Jason Sterman, Leanne Dare   \n",
       "1                Robert Vince   \n",
       "2                  Josh Boone   \n",
       "3                         NaN   \n",
       "4                         NaN   \n",
       "5                         NaN   \n",
       "6                  P.J. Hogan   \n",
       "\n",
       "                                                cast                country  \\\n",
       "0                      Apthon Corbin, Louis Gonzales                    NaN   \n",
       "1  Tucker Albrizzi, Diedrich Bader, Ameko Eks Mas...  United States, Canada   \n",
       "2  Shailene Woodley, Ansel Elgort, Laura Dern, Sa...          United States   \n",
       "3                                       Matt Beisner          United States   \n",
       "4  Benjamin Valic, Lily Sanfelippo, Jakari Fraser...          United States   \n",
       "5                                                NaN                    NaN   \n",
       "6  Isla Fisher, Hugh Dancy, Joan Cusack, John Goo...          United States   \n",
       "\n",
       "           date_added  release_year rating   duration  \\\n",
       "0  September 24, 2021          2021  TV-PG     88 min   \n",
       "1  September 24, 2021          2011      G     93 min   \n",
       "2  September 24, 2021          2014  PG-13    127 min   \n",
       "3  September 22, 2021          2019  TV-PG  2 Seasons   \n",
       "4  September 22, 2021          2021   TV-Y   1 Season   \n",
       "5  September 22, 2021          2021  TV-PG   1 Season   \n",
       "6  September 17, 2021          2009     PG    106 min   \n",
       "\n",
       "                              listed_in  \\\n",
       "0                           Documentary   \n",
       "1                 Comedy, Fantasy, Kids   \n",
       "2         Coming of Age, Drama, Romance   \n",
       "3  Animals & Nature, Docuseries, Family   \n",
       "4     Action-Adventure, Animation, Kids   \n",
       "5    Action-Adventure, Animation, Anime   \n",
       "6      Comedy, Romance, Romantic Comedy   \n",
       "\n",
       "                                         description  \n",
       "0  Two Pixar filmmakers strive to bring their uni...  \n",
       "1  The puppies go on a spooky adventure through a...  \n",
       "2  Hazel and Gus share a love that sweeps them on...  \n",
       "3  Matt Beisner uses unique approaches to modifyi...  \n",
       "4  Spidey teams up with pals to become The Spidey...  \n",
       "5  An animated anthology celebrating Star Wars th...  \n",
       "6  Becky writes a personal finance column en rout...  "
      ]
     },
     "execution_count": 57,
     "metadata": {},
     "output_type": "execute_result"
    }
   ],
   "source": [
    "df.head(7)"
   ]
  },
  {
   "cell_type": "code",
   "execution_count": 58,
   "id": "542111da-daef-43f9-9e3c-5b608b09d67b",
   "metadata": {},
   "outputs": [
    {
     "data": {
      "text/html": [
       "<div>\n",
       "<style scoped>\n",
       "    .dataframe tbody tr th:only-of-type {\n",
       "        vertical-align: middle;\n",
       "    }\n",
       "\n",
       "    .dataframe tbody tr th {\n",
       "        vertical-align: top;\n",
       "    }\n",
       "\n",
       "    .dataframe thead th {\n",
       "        text-align: right;\n",
       "    }\n",
       "</style>\n",
       "<table border=\"1\" class=\"dataframe\">\n",
       "  <thead>\n",
       "    <tr style=\"text-align: right;\">\n",
       "      <th></th>\n",
       "      <th>show_id</th>\n",
       "      <th>type</th>\n",
       "      <th>title</th>\n",
       "      <th>director</th>\n",
       "      <th>cast</th>\n",
       "      <th>country</th>\n",
       "      <th>date_added</th>\n",
       "      <th>release_year</th>\n",
       "      <th>rating</th>\n",
       "      <th>duration</th>\n",
       "      <th>listed_in</th>\n",
       "      <th>description</th>\n",
       "    </tr>\n",
       "  </thead>\n",
       "  <tbody>\n",
       "    <tr>\n",
       "      <th>1361</th>\n",
       "      <td>s1362</td>\n",
       "      <td>Movie</td>\n",
       "      <td>The Cat from Outer Space</td>\n",
       "      <td>Norman Tokar</td>\n",
       "      <td>Ken Berry, Sandy Duncan, Harry Morgan, Roddy M...</td>\n",
       "      <td>United States</td>\n",
       "      <td>October 1, 2019</td>\n",
       "      <td>1978</td>\n",
       "      <td>G</td>\n",
       "      <td>104 min</td>\n",
       "      <td>Comedy, Family, Science Fiction</td>\n",
       "      <td>A physicist tries to help an alien cat after i...</td>\n",
       "    </tr>\n",
       "    <tr>\n",
       "      <th>1362</th>\n",
       "      <td>s1363</td>\n",
       "      <td>Movie</td>\n",
       "      <td>The Great Mouse Detective</td>\n",
       "      <td>John Musker, Ron Clements, Dave Michener</td>\n",
       "      <td>Vincent Price, Barrie Ingham, Val Bettin, Susa...</td>\n",
       "      <td>United States</td>\n",
       "      <td>October 1, 2019</td>\n",
       "      <td>1986</td>\n",
       "      <td>G</td>\n",
       "      <td>75 min</td>\n",
       "      <td>Animation, Family, Mystery</td>\n",
       "      <td>A super-sleuth mouse must solve a toy maker's ...</td>\n",
       "    </tr>\n",
       "    <tr>\n",
       "      <th>1363</th>\n",
       "      <td>s1364</td>\n",
       "      <td>Movie</td>\n",
       "      <td>The Sword in the Stone</td>\n",
       "      <td>Wolfgang Reitherman</td>\n",
       "      <td>Sebastian Cabot, Karl Swenson, Rickie Sorensen...</td>\n",
       "      <td>United States</td>\n",
       "      <td>October 1, 2019</td>\n",
       "      <td>1963</td>\n",
       "      <td>G</td>\n",
       "      <td>80 min</td>\n",
       "      <td>Action-Adventure, Animation, Comedy</td>\n",
       "      <td>Merlin trains a young orphan who's destined to...</td>\n",
       "    </tr>\n",
       "    <tr>\n",
       "      <th>1364</th>\n",
       "      <td>s1365</td>\n",
       "      <td>Movie</td>\n",
       "      <td>Those Calloways</td>\n",
       "      <td>Norman Tokar</td>\n",
       "      <td>Brian Keith, Vera Miles, Brandon de Wilde, Wal...</td>\n",
       "      <td>United States</td>\n",
       "      <td>October 1, 2019</td>\n",
       "      <td>1965</td>\n",
       "      <td>PG</td>\n",
       "      <td>132 min</td>\n",
       "      <td>Animals &amp; Nature, Drama, Family</td>\n",
       "      <td>A strong-willed family struggles to establish ...</td>\n",
       "    </tr>\n",
       "    <tr>\n",
       "      <th>1365</th>\n",
       "      <td>s1366</td>\n",
       "      <td>TV Show</td>\n",
       "      <td>Disney Kirby Buckets</td>\n",
       "      <td>NaN</td>\n",
       "      <td>Jacob Bertrand, Mekai Curtis, Cade Sutton, Oli...</td>\n",
       "      <td>United States</td>\n",
       "      <td>NaN</td>\n",
       "      <td>2014</td>\n",
       "      <td>TV-Y7</td>\n",
       "      <td>3 Seasons</td>\n",
       "      <td>Action-Adventure, Comedy, Coming of Age</td>\n",
       "      <td>Welcome to Kirby's world! It's rude and sketchy.</td>\n",
       "    </tr>\n",
       "    <tr>\n",
       "      <th>1366</th>\n",
       "      <td>s1367</td>\n",
       "      <td>TV Show</td>\n",
       "      <td>Disney Mech-X4</td>\n",
       "      <td>NaN</td>\n",
       "      <td>Nathaniel Potvin, Raymond Cham, Kamran Lucas, ...</td>\n",
       "      <td>Canada</td>\n",
       "      <td>NaN</td>\n",
       "      <td>2016</td>\n",
       "      <td>TV-Y7</td>\n",
       "      <td>2 Seasons</td>\n",
       "      <td>Action-Adventure, Comedy, Science Fiction</td>\n",
       "      <td>Ryan discovers his ability to control a giant ...</td>\n",
       "    </tr>\n",
       "    <tr>\n",
       "      <th>1367</th>\n",
       "      <td>s1368</td>\n",
       "      <td>TV Show</td>\n",
       "      <td>Imagination Movers</td>\n",
       "      <td>NaN</td>\n",
       "      <td>Rich Collins, Dave Poche, Scott Durbin, Scott ...</td>\n",
       "      <td>United States</td>\n",
       "      <td>NaN</td>\n",
       "      <td>2008</td>\n",
       "      <td>TV-Y</td>\n",
       "      <td>3 Seasons</td>\n",
       "      <td>Kids, Music</td>\n",
       "      <td>Rock out with the Imagination Movers, Disney J...</td>\n",
       "    </tr>\n",
       "  </tbody>\n",
       "</table>\n",
       "</div>"
      ],
      "text/plain": [
       "     show_id     type                      title  \\\n",
       "1361   s1362    Movie   The Cat from Outer Space   \n",
       "1362   s1363    Movie  The Great Mouse Detective   \n",
       "1363   s1364    Movie     The Sword in the Stone   \n",
       "1364   s1365    Movie            Those Calloways   \n",
       "1365   s1366  TV Show       Disney Kirby Buckets   \n",
       "1366   s1367  TV Show             Disney Mech-X4   \n",
       "1367   s1368  TV Show         Imagination Movers   \n",
       "\n",
       "                                      director  \\\n",
       "1361                              Norman Tokar   \n",
       "1362  John Musker, Ron Clements, Dave Michener   \n",
       "1363                       Wolfgang Reitherman   \n",
       "1364                              Norman Tokar   \n",
       "1365                                       NaN   \n",
       "1366                                       NaN   \n",
       "1367                                       NaN   \n",
       "\n",
       "                                                   cast        country  \\\n",
       "1361  Ken Berry, Sandy Duncan, Harry Morgan, Roddy M...  United States   \n",
       "1362  Vincent Price, Barrie Ingham, Val Bettin, Susa...  United States   \n",
       "1363  Sebastian Cabot, Karl Swenson, Rickie Sorensen...  United States   \n",
       "1364  Brian Keith, Vera Miles, Brandon de Wilde, Wal...  United States   \n",
       "1365  Jacob Bertrand, Mekai Curtis, Cade Sutton, Oli...  United States   \n",
       "1366  Nathaniel Potvin, Raymond Cham, Kamran Lucas, ...         Canada   \n",
       "1367  Rich Collins, Dave Poche, Scott Durbin, Scott ...  United States   \n",
       "\n",
       "           date_added  release_year rating   duration  \\\n",
       "1361  October 1, 2019          1978      G    104 min   \n",
       "1362  October 1, 2019          1986      G     75 min   \n",
       "1363  October 1, 2019          1963      G     80 min   \n",
       "1364  October 1, 2019          1965     PG    132 min   \n",
       "1365              NaN          2014  TV-Y7  3 Seasons   \n",
       "1366              NaN          2016  TV-Y7  2 Seasons   \n",
       "1367              NaN          2008   TV-Y  3 Seasons   \n",
       "\n",
       "                                      listed_in  \\\n",
       "1361            Comedy, Family, Science Fiction   \n",
       "1362                 Animation, Family, Mystery   \n",
       "1363        Action-Adventure, Animation, Comedy   \n",
       "1364            Animals & Nature, Drama, Family   \n",
       "1365    Action-Adventure, Comedy, Coming of Age   \n",
       "1366  Action-Adventure, Comedy, Science Fiction   \n",
       "1367                                Kids, Music   \n",
       "\n",
       "                                            description  \n",
       "1361  A physicist tries to help an alien cat after i...  \n",
       "1362  A super-sleuth mouse must solve a toy maker's ...  \n",
       "1363  Merlin trains a young orphan who's destined to...  \n",
       "1364  A strong-willed family struggles to establish ...  \n",
       "1365   Welcome to Kirby's world! It's rude and sketchy.  \n",
       "1366  Ryan discovers his ability to control a giant ...  \n",
       "1367  Rock out with the Imagination Movers, Disney J...  "
      ]
     },
     "execution_count": 58,
     "metadata": {},
     "output_type": "execute_result"
    }
   ],
   "source": [
    "df.tail(7)"
   ]
  },
  {
   "cell_type": "code",
   "execution_count": 59,
   "id": "47561530",
   "metadata": {},
   "outputs": [
    {
     "data": {
      "text/plain": [
       "<bound method DataFrame.info of      show_id     type                           title  \\\n",
       "0         s1    Movie                   A Spark Story   \n",
       "1         s2    Movie                  Spooky Buddies   \n",
       "2         s3    Movie          The Fault in Our Stars   \n",
       "3         s4  TV Show                 Dog: Impossible   \n",
       "4         s5  TV Show  Spidey And His Amazing Friends   \n",
       "...      ...      ...                             ...   \n",
       "1363   s1364    Movie          The Sword in the Stone   \n",
       "1364   s1365    Movie                 Those Calloways   \n",
       "1365   s1366  TV Show            Disney Kirby Buckets   \n",
       "1366   s1367  TV Show                  Disney Mech-X4   \n",
       "1367   s1368  TV Show              Imagination Movers   \n",
       "\n",
       "                        director  \\\n",
       "0     Jason Sterman, Leanne Dare   \n",
       "1                   Robert Vince   \n",
       "2                     Josh Boone   \n",
       "3                            NaN   \n",
       "4                            NaN   \n",
       "...                          ...   \n",
       "1363         Wolfgang Reitherman   \n",
       "1364                Norman Tokar   \n",
       "1365                         NaN   \n",
       "1366                         NaN   \n",
       "1367                         NaN   \n",
       "\n",
       "                                                   cast  \\\n",
       "0                         Apthon Corbin, Louis Gonzales   \n",
       "1     Tucker Albrizzi, Diedrich Bader, Ameko Eks Mas...   \n",
       "2     Shailene Woodley, Ansel Elgort, Laura Dern, Sa...   \n",
       "3                                          Matt Beisner   \n",
       "4     Benjamin Valic, Lily Sanfelippo, Jakari Fraser...   \n",
       "...                                                 ...   \n",
       "1363  Sebastian Cabot, Karl Swenson, Rickie Sorensen...   \n",
       "1364  Brian Keith, Vera Miles, Brandon de Wilde, Wal...   \n",
       "1365  Jacob Bertrand, Mekai Curtis, Cade Sutton, Oli...   \n",
       "1366  Nathaniel Potvin, Raymond Cham, Kamran Lucas, ...   \n",
       "1367  Rich Collins, Dave Poche, Scott Durbin, Scott ...   \n",
       "\n",
       "                    country          date_added  release_year rating  \\\n",
       "0                       NaN  September 24, 2021          2021  TV-PG   \n",
       "1     United States, Canada  September 24, 2021          2011      G   \n",
       "2             United States  September 24, 2021          2014  PG-13   \n",
       "3             United States  September 22, 2021          2019  TV-PG   \n",
       "4             United States  September 22, 2021          2021   TV-Y   \n",
       "...                     ...                 ...           ...    ...   \n",
       "1363          United States     October 1, 2019          1963      G   \n",
       "1364          United States     October 1, 2019          1965     PG   \n",
       "1365          United States                 NaN          2014  TV-Y7   \n",
       "1366                 Canada                 NaN          2016  TV-Y7   \n",
       "1367          United States                 NaN          2008   TV-Y   \n",
       "\n",
       "       duration                                  listed_in  \\\n",
       "0        88 min                                Documentary   \n",
       "1        93 min                      Comedy, Fantasy, Kids   \n",
       "2       127 min              Coming of Age, Drama, Romance   \n",
       "3     2 Seasons       Animals & Nature, Docuseries, Family   \n",
       "4      1 Season          Action-Adventure, Animation, Kids   \n",
       "...         ...                                        ...   \n",
       "1363     80 min        Action-Adventure, Animation, Comedy   \n",
       "1364    132 min            Animals & Nature, Drama, Family   \n",
       "1365  3 Seasons    Action-Adventure, Comedy, Coming of Age   \n",
       "1366  2 Seasons  Action-Adventure, Comedy, Science Fiction   \n",
       "1367  3 Seasons                                Kids, Music   \n",
       "\n",
       "                                            description  \n",
       "0     Two Pixar filmmakers strive to bring their uni...  \n",
       "1     The puppies go on a spooky adventure through a...  \n",
       "2     Hazel and Gus share a love that sweeps them on...  \n",
       "3     Matt Beisner uses unique approaches to modifyi...  \n",
       "4     Spidey teams up with pals to become The Spidey...  \n",
       "...                                                 ...  \n",
       "1363  Merlin trains a young orphan who's destined to...  \n",
       "1364  A strong-willed family struggles to establish ...  \n",
       "1365   Welcome to Kirby's world! It's rude and sketchy.  \n",
       "1366  Ryan discovers his ability to control a giant ...  \n",
       "1367  Rock out with the Imagination Movers, Disney J...  \n",
       "\n",
       "[1368 rows x 12 columns]>"
      ]
     },
     "execution_count": 59,
     "metadata": {},
     "output_type": "execute_result"
    }
   ],
   "source": [
    "df.info"
   ]
  },
  {
   "cell_type": "code",
   "execution_count": 60,
   "id": "8eba68c9",
   "metadata": {},
   "outputs": [
    {
     "data": {
      "text/html": [
       "<div>\n",
       "<style scoped>\n",
       "    .dataframe tbody tr th:only-of-type {\n",
       "        vertical-align: middle;\n",
       "    }\n",
       "\n",
       "    .dataframe tbody tr th {\n",
       "        vertical-align: top;\n",
       "    }\n",
       "\n",
       "    .dataframe thead th {\n",
       "        text-align: right;\n",
       "    }\n",
       "</style>\n",
       "<table border=\"1\" class=\"dataframe\">\n",
       "  <thead>\n",
       "    <tr style=\"text-align: right;\">\n",
       "      <th></th>\n",
       "      <th>release_year</th>\n",
       "    </tr>\n",
       "  </thead>\n",
       "  <tbody>\n",
       "    <tr>\n",
       "      <th>count</th>\n",
       "      <td>1368.000000</td>\n",
       "    </tr>\n",
       "    <tr>\n",
       "      <th>mean</th>\n",
       "      <td>2002.348684</td>\n",
       "    </tr>\n",
       "    <tr>\n",
       "      <th>std</th>\n",
       "      <td>22.127559</td>\n",
       "    </tr>\n",
       "    <tr>\n",
       "      <th>min</th>\n",
       "      <td>1928.000000</td>\n",
       "    </tr>\n",
       "    <tr>\n",
       "      <th>25%</th>\n",
       "      <td>1998.000000</td>\n",
       "    </tr>\n",
       "    <tr>\n",
       "      <th>50%</th>\n",
       "      <td>2011.000000</td>\n",
       "    </tr>\n",
       "    <tr>\n",
       "      <th>75%</th>\n",
       "      <td>2018.000000</td>\n",
       "    </tr>\n",
       "    <tr>\n",
       "      <th>max</th>\n",
       "      <td>2021.000000</td>\n",
       "    </tr>\n",
       "  </tbody>\n",
       "</table>\n",
       "</div>"
      ],
      "text/plain": [
       "       release_year\n",
       "count   1368.000000\n",
       "mean    2002.348684\n",
       "std       22.127559\n",
       "min     1928.000000\n",
       "25%     1998.000000\n",
       "50%     2011.000000\n",
       "75%     2018.000000\n",
       "max     2021.000000"
      ]
     },
     "execution_count": 60,
     "metadata": {},
     "output_type": "execute_result"
    }
   ],
   "source": [
    "df.describe()"
   ]
  },
  {
   "cell_type": "code",
   "execution_count": 61,
   "id": "b4c401c7-d3d4-4afb-8db5-a855a829d0b7",
   "metadata": {
    "notebookRunGroups": {
     "groupValue": "1"
    }
   },
   "outputs": [
    {
     "data": {
      "text/plain": [
       "array(['show_id', 'type', 'title', 'director', 'cast', 'country',\n",
       "       'date_added', 'release_year', 'rating', 'duration', 'listed_in',\n",
       "       'description'], dtype=object)"
      ]
     },
     "execution_count": 61,
     "metadata": {},
     "output_type": "execute_result"
    }
   ],
   "source": [
    "df.columns.values"
   ]
  },
  {
   "cell_type": "code",
   "execution_count": 62,
   "id": "c1c21491",
   "metadata": {},
   "outputs": [
    {
     "data": {
      "text/plain": [
       "show_id           0\n",
       "type              0\n",
       "title             0\n",
       "director        440\n",
       "cast            174\n",
       "country         175\n",
       "date_added        3\n",
       "release_year      0\n",
       "rating            2\n",
       "duration          0\n",
       "listed_in         0\n",
       "description       0\n",
       "dtype: int64"
      ]
     },
     "execution_count": 62,
     "metadata": {},
     "output_type": "execute_result"
    }
   ],
   "source": [
    "df.isna().sum()"
   ]
  },
  {
   "cell_type": "code",
   "execution_count": 63,
   "id": "d6aa6d71-3213-48af-8c30-38f53d19e539",
   "metadata": {},
   "outputs": [
    {
     "data": {
      "text/plain": [
       "(1368, 12)"
      ]
     },
     "execution_count": 63,
     "metadata": {},
     "output_type": "execute_result"
    }
   ],
   "source": [
    "df.shape"
   ]
  },
  {
   "cell_type": "code",
   "execution_count": 64,
   "id": "8d936a2f",
   "metadata": {},
   "outputs": [
    {
     "data": {
      "text/plain": [
       "(1368, 12)"
      ]
     },
     "execution_count": 64,
     "metadata": {},
     "output_type": "execute_result"
    }
   ],
   "source": [
    "df=df.drop_duplicates()\n",
    "df.shape"
   ]
  },
  {
   "cell_type": "code",
   "execution_count": 65,
   "id": "05e9e8bd",
   "metadata": {},
   "outputs": [
    {
     "name": "stdout",
     "output_type": "stream",
     "text": [
      "<class 'pandas.core.frame.DataFrame'>\n",
      "RangeIndex: 1368 entries, 0 to 1367\n",
      "Data columns (total 10 columns):\n",
      " #   Column        Non-Null Count  Dtype \n",
      "---  ------        --------------  ----- \n",
      " 0   show_id       1368 non-null   object\n",
      " 1   type          1368 non-null   object\n",
      " 2   title         1368 non-null   object\n",
      " 3   director      928 non-null    object\n",
      " 4   cast          1194 non-null   object\n",
      " 5   country       1193 non-null   object\n",
      " 6   date_added    1365 non-null   object\n",
      " 7   release_year  1368 non-null   int64 \n",
      " 8   rating        1366 non-null   object\n",
      " 9   description   1368 non-null   object\n",
      "dtypes: int64(1), object(9)\n",
      "memory usage: 107.0+ KB\n"
     ]
    }
   ],
   "source": [
    "columns_to_remove =['duration','listed_in']\n",
    "df=df.drop(columns=columns_to_remove)\n",
    "df.info()"
   ]
  },
  {
   "cell_type": "code",
   "execution_count": 66,
   "id": "ffc64dae-643f-4a27-b932-66b8e3bebcdb",
   "metadata": {},
   "outputs": [
    {
     "data": {
      "image/png": "[encoded data removed]",
      "text/plain": [
       "<Figure size 2000x1500 with 1 Axes>"
      ]
     },
     "metadata": {},
     "output_type": "display_data"
    }
   ],
   "source": [
    "df.hist(bins=50,grid=False,figsize=(20,15));"
   ]
  },
  {
   "cell_type": "code",
   "execution_count": 67,
   "id": "e2e06bb4-62d7-4ffd-bafb-ad688b878054",
   "metadata": {},
   "outputs": [
    {
     "data": {
      "text/plain": [
       "['How many releases happend for movie and tvshow ?']"
      ]
     },
     "execution_count": 67,
     "metadata": {},
     "output_type": "execute_result"
    }
   ],
   "source": [
    "question=[\"How many releases happend for movie and tvshow ?\"]\n",
    "question"
   ]
  },
  {
   "cell_type": "code",
   "execution_count": 68,
   "id": "ea713651",
   "metadata": {},
   "outputs": [
    {
     "data": {
      "text/plain": [
       "type\n",
       "Movie      991\n",
       "TV Show    377\n",
       "Name: count, dtype: int64"
      ]
     },
     "execution_count": 68,
     "metadata": {},
     "output_type": "execute_result"
    }
   ],
   "source": [
    "df.type.value_counts()"
   ]
  },
  {
   "cell_type": "code",
   "execution_count": 69,
   "id": "26023865-b90d-4cc4-a75e-10541b5e4fc5",
   "metadata": {},
   "outputs": [
    {
     "data": {
      "text/plain": [
       "Text(0, 0.5, 'Amount')"
      ]
     },
     "execution_count": 69,
     "metadata": {},
     "output_type": "execute_result"
    },
    {
     "data": {
      "image/png": "[encoded data removed]",
      "text/plain": [
       "<Figure size 640x480 with 1 Axes>"
      ]
     },
     "metadata": {},
     "output_type": "display_data"
    }
   ],
   "source": [
    "df.type.value_counts().plot(kind='bar',color=[\"orchid\",\"salmon\"])\n",
    "plt.title('Show values')\n",
    "plt.xlabel('1=Movie,0=Tv show')\n",
    "plt.ylabel('Amount')"
   ]
  },
  {
   "cell_type": "code",
   "execution_count": 70,
   "id": "cad12580",
   "metadata": {},
   "outputs": [
    {
     "data": {
      "image/png": "[encoded data removed]",
      "text/plain": [
       "<Figure size 800x1600 with 1 Axes>"
      ]
     },
     "metadata": {},
     "output_type": "display_data"
    }
   ],
   "source": [
    "df.type.value_counts().plot(kind='pie',figsize=(8,16))\n",
    "plt.legend(['Movie','TV_Show']);"
   ]
  },
  {
   "cell_type": "code",
   "execution_count": 71,
   "id": "7f34cf0e",
   "metadata": {},
   "outputs": [
    {
     "data": {
      "text/plain": [
       "rating\n",
       "TV-G        307\n",
       "TV-PG       275\n",
       "G           235\n",
       "PG          227\n",
       "TV-Y7       130\n",
       "TV-14        72\n",
       "PG-13        60\n",
       "TV-Y         48\n",
       "TV-Y7-FV     12\n",
       "Name: count, dtype: int64"
      ]
     },
     "execution_count": 71,
     "metadata": {},
     "output_type": "execute_result"
    }
   ],
   "source": [
    "df.rating.value_counts()"
   ]
  },
  {
   "cell_type": "code",
   "execution_count": 72,
   "id": "ed985ce4",
   "metadata": {},
   "outputs": [
    {
     "data": {
      "image/png": "[encoded data removed]",
      "text/plain": [
       "<Figure size 800x600 with 1 Axes>"
      ]
     },
     "metadata": {},
     "output_type": "display_data"
    }
   ],
   "source": [
    "df.rating.value_counts().plot(kind='pie',figsize=(8,6))\n",
    "plt.title('Ratings')\n",
    "plt.legend(['TV-G','TV-PG','G','PG','TV-Y7','TV-14','PG-13','TV-Y','TV-Y7-FV']);\n"
   ]
  },
  {
   "cell_type": "code",
   "execution_count": 73,
   "id": "887fe7a1",
   "metadata": {},
   "outputs": [
    {
     "data": {
      "text/html": [
       "<div>\n",
       "<style scoped>\n",
       "    .dataframe tbody tr th:only-of-type {\n",
       "        vertical-align: middle;\n",
       "    }\n",
       "\n",
       "    .dataframe tbody tr th {\n",
       "        vertical-align: top;\n",
       "    }\n",
       "\n",
       "    .dataframe thead th {\n",
       "        text-align: right;\n",
       "    }\n",
       "</style>\n",
       "<table border=\"1\" class=\"dataframe\">\n",
       "  <thead>\n",
       "    <tr style=\"text-align: right;\">\n",
       "      <th>rating</th>\n",
       "      <th>G</th>\n",
       "      <th>PG</th>\n",
       "      <th>PG-13</th>\n",
       "      <th>TV-14</th>\n",
       "      <th>TV-G</th>\n",
       "      <th>TV-PG</th>\n",
       "      <th>TV-Y</th>\n",
       "      <th>TV-Y7</th>\n",
       "      <th>TV-Y7-FV</th>\n",
       "    </tr>\n",
       "    <tr>\n",
       "      <th>type</th>\n",
       "      <th></th>\n",
       "      <th></th>\n",
       "      <th></th>\n",
       "      <th></th>\n",
       "      <th></th>\n",
       "      <th></th>\n",
       "      <th></th>\n",
       "      <th></th>\n",
       "      <th></th>\n",
       "    </tr>\n",
       "  </thead>\n",
       "  <tbody>\n",
       "    <tr>\n",
       "      <th>Movie</th>\n",
       "      <td>235</td>\n",
       "      <td>226</td>\n",
       "      <td>60</td>\n",
       "      <td>36</td>\n",
       "      <td>224</td>\n",
       "      <td>165</td>\n",
       "      <td>2</td>\n",
       "      <td>36</td>\n",
       "      <td>6</td>\n",
       "    </tr>\n",
       "    <tr>\n",
       "      <th>TV Show</th>\n",
       "      <td>0</td>\n",
       "      <td>1</td>\n",
       "      <td>0</td>\n",
       "      <td>36</td>\n",
       "      <td>83</td>\n",
       "      <td>110</td>\n",
       "      <td>46</td>\n",
       "      <td>94</td>\n",
       "      <td>6</td>\n",
       "    </tr>\n",
       "  </tbody>\n",
       "</table>\n",
       "</div>"
      ],
      "text/plain": [
       "rating     G   PG  PG-13  TV-14  TV-G  TV-PG  TV-Y  TV-Y7  TV-Y7-FV\n",
       "type                                                               \n",
       "Movie    235  226     60     36   224    165     2     36         6\n",
       "TV Show    0    1      0     36    83    110    46     94         6"
      ]
     },
     "execution_count": 73,
     "metadata": {},
     "output_type": "execute_result"
    }
   ],
   "source": [
    "pd.crosstab(df.type,df.rating)"
   ]
  },
  {
   "cell_type": "code",
   "execution_count": 74,
   "id": "9395067f",
   "metadata": {},
   "outputs": [
    {
     "data": {
      "text/plain": [
       "Text(0.5, 0, '0=movie,1=show')"
      ]
     },
     "execution_count": 74,
     "metadata": {},
     "output_type": "execute_result"
    },
    {
     "data": {
      "image/png": "[encoded data removed]",
      "text/plain": [
       "<Figure size 640x480 with 1 Axes>"
      ]
     },
     "metadata": {},
     "output_type": "display_data"
    }
   ],
   "source": [
    "sns.countplot(x='type',data=df,hue='rating')\n",
    "plt.title(\"Movie and Show Ratings\")\n",
    "plt.xlabel('0=movie,1=show')"
   ]
  },
  {
   "cell_type": "code",
   "execution_count": 83,
   "id": "da312276",
   "metadata": {},
   "outputs": [
    {
     "data": {
      "text/plain": [
       "<seaborn.axisgrid.FacetGrid at 0x15cc44c1dc0>"
      ]
     },
     "execution_count": 83,
     "metadata": {},
     "output_type": "execute_result"
    },
    {
     "data": {
      "image/png": "[encoded data removed]",
      "text/plain": [
       "<Figure size 500x500 with 1 Axes>"
      ]
     },
     "metadata": {},
     "output_type": "display_data"
    }
   ],
   "source": [
    "sns.displot(x='rating',data=df,bins=30,kde=True,color='chocolate')"
   ]
  }
 ],
 "metadata": {
  "kernelspec": {
   "display_name": "Python 3 (ipykernel)",
   "language": "python",
   "name": "python3"
  },
  "language_info": {
   "codemirror_mode": {
    "name": "ipython",
    "version": 3
   },
   "file_extension": ".py",
   "mimetype": "text/x-python",
   "name": "python",
   "nbconvert_exporter": "python",
   "pygments_lexer": "ipython3",
   "version": "3.12.5"
  }
 },
 "nbformat": 4,
 "nbformat_minor": 5
}
